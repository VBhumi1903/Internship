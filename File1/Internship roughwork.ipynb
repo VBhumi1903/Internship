{
 "cells": [
  {
   "cell_type": "markdown",
   "id": "2cfd342c-a1f5-448f-a06a-3244f0e383f8",
   "metadata": {},
   "source": [
    "# Internship File_1"
   ]
  },
  {
   "cell_type": "markdown",
   "id": "dfc012e6-8234-42b5-a90a-150270d52f18",
   "metadata": {},
   "source": [
    "## Submission 18th Sept 2024"
   ]
  },
  {
   "cell_type": "code",
   "execution_count": 2,
   "id": "c568d399-ea03-4eca-985b-0bc9c81da3a1",
   "metadata": {},
   "outputs": [],
   "source": [
    "import numpy as np\n",
    "import pandas as pd\n"
   ]
  },
  {
   "cell_type": "code",
   "execution_count": 10,
   "id": "ed46c849-f9d6-4c9c-84ed-2a4f40cad5ca",
   "metadata": {},
   "outputs": [
    {
     "name": "stdout",
     "output_type": "stream",
     "text": [
      "15\n"
     ]
    }
   ],
   "source": [
    "def func(a, b):\n",
    "    return b if a == 0 else func(b % a, a)\n",
    "print(func(30, 75))"
   ]
  },
  {
   "cell_type": "code",
   "execution_count": 11,
   "id": "641328b7-36e0-4199-9a39-e1cb0e64f1ec",
   "metadata": {},
   "outputs": [
    {
     "name": "stdout",
     "output_type": "stream",
     "text": [
      "<class 'filter'>\n"
     ]
    }
   ],
   "source": [
    "numbers = (4, 7, 19, 2, 89, 45, 72, 22)\n",
    "sorted_numbers = sorted(numbers)\n",
    "even = lambda a: a % 2 == 0\n",
    "even_numbers = filter(even, sorted_numbers)\n",
    "print(type(even_numbers))"
   ]
  },
  {
   "cell_type": "code",
   "execution_count": 14,
   "id": "624f8b76-89df-4c19-921d-94ee46c72b99",
   "metadata": {},
   "outputs": [
    {
     "ename": "TypeError",
     "evalue": "unsupported operand type(s) for +: 'set' and 'set'",
     "output_type": "error",
     "traceback": [
      "\u001b[1;31m---------------------------------------------------------------------------\u001b[0m",
      "\u001b[1;31mTypeError\u001b[0m                                 Traceback (most recent call last)",
      "Cell \u001b[1;32mIn[14], line 5\u001b[0m\n\u001b[0;32m      2\u001b[0m set2 \u001b[38;5;241m=\u001b[39m {\u001b[38;5;241m82\u001b[39m, \u001b[38;5;241m49\u001b[39m, \u001b[38;5;241m62\u001b[39m}\n\u001b[0;32m      3\u001b[0m set3\u001b[38;5;241m=\u001b[39m{\u001b[38;5;241m99\u001b[39m,\u001b[38;5;241m22\u001b[39m,\u001b[38;5;241m17\u001b[39m}\n\u001b[1;32m----> 5\u001b[0m \u001b[38;5;28mprint\u001b[39m(\u001b[38;5;28mlen\u001b[39m(set1\u001b[38;5;241m+\u001b[39mset2\u001b[38;5;241m+\u001b[39mset3))\n",
      "\u001b[1;31mTypeError\u001b[0m: unsupported operand type(s) for +: 'set' and 'set'"
     ]
    }
   ],
   "source": [
    "set1 = {14, 3, 55}\n",
    "set2 = {82, 49, 62}\n",
    "set3={99,22,17}\n",
    "\n",
    "print(len(set1+set2+set3))"
   ]
  },
  {
   "cell_type": "code",
   "execution_count": 15,
   "id": "3ef94424-d7e0-4227-874c-846acc78d019",
   "metadata": {},
   "outputs": [
    {
     "name": "stdout",
     "output_type": "stream",
     "text": [
      "208\n"
     ]
    }
   ],
   "source": [
    "print(4**3 + (7 + 5)**(1 + 1))"
   ]
  },
  {
   "cell_type": "code",
   "execution_count": 16,
   "id": "16d27010-1d9a-449e-8555-dadcae7eb4f4",
   "metadata": {},
   "outputs": [
    {
     "name": "stdout",
     "output_type": "stream",
     "text": [
      "2024-09-16 18:52:45.116433\n"
     ]
    }
   ],
   "source": [
    "import datetime\n",
    "\n",
    "now =datetime.datetime.now()\n",
    "print(now)\n"
   ]
  },
  {
   "cell_type": "code",
   "execution_count": 17,
   "id": "53baeb11-355d-4b74-9775-e53ca0a5e2bb",
   "metadata": {},
   "outputs": [
    {
     "name": "stdout",
     "output_type": "stream",
     "text": [
      "Today's Date =  16 September, 2024\n"
     ]
    }
   ],
   "source": [
    "string1 = \"16 September, 2024\"\n",
    "print(\"Today's Date = \",string1)"
   ]
  },
  {
   "cell_type": "code",
   "execution_count": 29,
   "id": "69460fa1-a6e3-4a96-b2d7-d528c6eef219",
   "metadata": {},
   "outputs": [
    {
     "name": "stdout",
     "output_type": "stream",
     "text": [
      "Today's Date =  16 September, 2024\n",
      "2024-09-16 00:00:00\n"
     ]
    }
   ],
   "source": [
    "#strptime \n",
    "from datetime import datetime\n",
    "date_string = \"16 September, 2024\"\n",
    "print(\"Today's Date = \",date_string)\n",
    "\n",
    "date_object = datetime.strptime(date_string,\"%d %B, %Y\")\n",
    "print(date_object)\n"
   ]
  },
  {
   "cell_type": "code",
   "execution_count": null,
   "id": "5680750c-a9e1-411b-b1f1-8e340b1d2236",
   "metadata": {},
   "outputs": [],
   "source": []
  },
  {
   "cell_type": "code",
   "execution_count": 28,
   "id": "1fccb778-e4a5-4feb-8acc-9b0bd0f98aee",
   "metadata": {},
   "outputs": [
    {
     "name": "stdout",
     "output_type": "stream",
     "text": [
      "Date of Birth  03 November, 1980\n",
      "1980-11-03 00:00:00\n"
     ]
    }
   ],
   "source": [
    "from datetime import datetime\n",
    "date1 = \"03 November, 1980\"\n",
    "print(\"Date of Birth \",date1)\n",
    "\n",
    "time = datetime.strptime(date1, \"%d %B, %Y\")\n",
    "print(time)"
   ]
  },
  {
   "cell_type": "code",
   "execution_count": 3,
   "id": "84ccc168-2add-4848-a644-9cf2c24d134e",
   "metadata": {},
   "outputs": [],
   "source": [
    "captains = { \n",
    "    \"Enterprise\": \"Picard\", \n",
    "    \"Voyager\": \"Janeway\", \n",
    "    \"Defiant\": \"Sisko\" }\n"
   ]
  },
  {
   "cell_type": "code",
   "execution_count": 4,
   "id": "ad903fe1-d780-4835-b887-a0ba8796f158",
   "metadata": {},
   "outputs": [
    {
     "data": {
      "text/plain": [
       "dict_items([('Enterprise', 'Picard'), ('Voyager', 'Janeway'), ('Defiant', 'Sisko')])"
      ]
     },
     "execution_count": 4,
     "metadata": {},
     "output_type": "execute_result"
    }
   ],
   "source": [
    "captains.items()"
   ]
  },
  {
   "cell_type": "code",
   "execution_count": 7,
   "id": "9d8ad25e-fa5a-4b25-98d8-e3b2f7a678de",
   "metadata": {},
   "outputs": [
    {
     "name": "stdout",
     "output_type": "stream",
     "text": [
      "Enterprise Picard\n",
      "Voyager Janeway\n",
      "Defiant Sisko\n"
     ]
    }
   ],
   "source": [
    "for ship, captain in captains.items():\n",
    "    print(ship,captain)"
   ]
  },
  {
   "cell_type": "code",
   "execution_count": 9,
   "id": "de8ab3cc-79ad-481c-8240-ad72c3b94c83",
   "metadata": {},
   "outputs": [
    {
     "name": "stdout",
     "output_type": "stream",
     "text": [
      "Enterprise Picard\n",
      "Voyager Janeway\n",
      "Defiant Sisko\n"
     ]
    }
   ],
   "source": [
    "for ship in captains:\n",
    "    print(ship, captains[ship])"
   ]
  },
  {
   "cell_type": "code",
   "execution_count": 10,
   "id": "bf2d5aaf-e814-4570-94d8-3e5919049a02",
   "metadata": {},
   "outputs": [
    {
     "name": "stdout",
     "output_type": "stream",
     "text": [
      "Enterprise {'Enterprise': 'Picard', 'Voyager': 'Janeway', 'Defiant': 'Sisko'}\n",
      "Voyager {'Enterprise': 'Picard', 'Voyager': 'Janeway', 'Defiant': 'Sisko'}\n",
      "Defiant {'Enterprise': 'Picard', 'Voyager': 'Janeway', 'Defiant': 'Sisko'}\n"
     ]
    }
   ],
   "source": [
    "for ship in captains:\n",
    "    print(ship, captains)"
   ]
  },
  {
   "cell_type": "code",
   "execution_count": 12,
   "id": "beb6cd71-0e97-47e2-aac6-f86757b3db31",
   "metadata": {},
   "outputs": [
    {
     "name": "stdout",
     "output_type": "stream",
     "text": [
      "{}\n"
     ]
    }
   ],
   "source": [
    "captain = {}\n",
    "print(captain)"
   ]
  },
  {
   "cell_type": "code",
   "execution_count": 13,
   "id": "859a2b0b-b3bc-44ed-a96f-a26cce07ee8d",
   "metadata": {},
   "outputs": [],
   "source": [
    "captains = {\n",
    "\"Enterprise\": \"Picard\",\n",
    "\"Voyager\": \"Janeway\",\n",
    "\"Defiant\": \"Sisko\",\n",
    "}"
   ]
  },
  {
   "cell_type": "code",
   "execution_count": 15,
   "id": "8092272f-3979-482c-b621-3792a8d3c7ee",
   "metadata": {},
   "outputs": [
    {
     "data": {
      "text/plain": [
       "{'Enterprise': 'Picard', 'Voyager': 'Janeway', 'Defiant': 'Sisko'}"
      ]
     },
     "execution_count": 15,
     "metadata": {},
     "output_type": "execute_result"
    }
   ],
   "source": [
    "captains"
   ]
  },
  {
   "cell_type": "code",
   "execution_count": 16,
   "id": "09a4dfe3-55fc-425e-b289-dfa44361dc80",
   "metadata": {},
   "outputs": [],
   "source": [
    "captains.update({\"Discovery\": \"unknown\",})"
   ]
  },
  {
   "cell_type": "code",
   "execution_count": 17,
   "id": "2348e179-35d2-498a-b053-00befc88dc41",
   "metadata": {},
   "outputs": [
    {
     "data": {
      "text/plain": [
       "{'Enterprise': 'Picard',\n",
       " 'Voyager': 'Janeway',\n",
       " 'Defiant': 'Sisko',\n",
       " 'Discovery': 'unknown'}"
      ]
     },
     "execution_count": 17,
     "metadata": {},
     "output_type": "execute_result"
    }
   ],
   "source": [
    "captains"
   ]
  },
  {
   "cell_type": "code",
   "execution_count": 19,
   "id": "0fac616c-b7fa-4504-9d4b-45947e22084a",
   "metadata": {},
   "outputs": [
    {
     "name": "stdout",
     "output_type": "stream",
     "text": [
      "The [ship] is captained by [captains].\n",
      "The [ship] is captained by [captains].\n",
      "The [ship] is captained by [captains].\n",
      "The [ship] is captained by [captains].\n"
     ]
    }
   ],
   "source": [
    "for item in captains.items():\n",
    "    print(f\"The [ship] is captained by [captains].\")"
   ]
  },
  {
   "cell_type": "code",
   "execution_count": 20,
   "id": "2c7583c9-5ee0-410e-b14c-61cdda8368f1",
   "metadata": {},
   "outputs": [
    {
     "name": "stdout",
     "output_type": "stream",
     "text": [
      "The Enterprise is captained by Picard.\n",
      "The Voyager is captained by Janeway.\n",
      "The Defiant is captained by Sisko.\n",
      "The Discovery is captained by unknown.\n"
     ]
    }
   ],
   "source": [
    "for ship, captain in captains.items():\n",
    "    print(f\"The {ship} is captained by {captain}.\")"
   ]
  },
  {
   "cell_type": "code",
   "execution_count": 21,
   "id": "bc55f309-cf4b-4993-a434-8654280abfa0",
   "metadata": {},
   "outputs": [
    {
     "name": "stdout",
     "output_type": "stream",
     "text": [
      "The Picard is captained by Enterprise.\n",
      "The Janeway is captained by Voyager.\n",
      "The Sisko is captained by Defiant.\n",
      "The unknown is captained by Discovery.\n"
     ]
    }
   ],
   "source": [
    "for captain, ship in captains.items():\n",
    "    print(f\"The {ship} is captained by {captain}.\")"
   ]
  },
  {
   "cell_type": "code",
   "execution_count": 22,
   "id": "2f3103f6-6b4b-498a-ba0a-938138b9e718",
   "metadata": {},
   "outputs": [
    {
     "ename": "AttributeError",
     "evalue": "'str' object has no attribute 'pop'",
     "output_type": "error",
     "traceback": [
      "\u001b[1;31m---------------------------------------------------------------------------\u001b[0m",
      "\u001b[1;31mAttributeError\u001b[0m                            Traceback (most recent call last)",
      "Cell \u001b[1;32mIn[22], line 1\u001b[0m\n\u001b[1;32m----> 1\u001b[0m captains[\u001b[38;5;124m\"\u001b[39m\u001b[38;5;124mDiscovery\u001b[39m\u001b[38;5;124m\"\u001b[39m]\u001b[38;5;241m.\u001b[39mpop()\n",
      "\u001b[1;31mAttributeError\u001b[0m: 'str' object has no attribute 'pop'"
     ]
    }
   ],
   "source": [
    "captains[\"Discovery\"].pop()"
   ]
  },
  {
   "cell_type": "code",
   "execution_count": 24,
   "id": "2797d368-9387-4ff0-85a6-c80acdd4114c",
   "metadata": {},
   "outputs": [
    {
     "ename": "KeyError",
     "evalue": "'Discovery'",
     "output_type": "error",
     "traceback": [
      "\u001b[1;31m---------------------------------------------------------------------------\u001b[0m",
      "\u001b[1;31mKeyError\u001b[0m                                  Traceback (most recent call last)",
      "Cell \u001b[1;32mIn[24], line 1\u001b[0m\n\u001b[1;32m----> 1\u001b[0m \u001b[38;5;28;01mdel\u001b[39;00m captains[\u001b[38;5;124m\"\u001b[39m\u001b[38;5;124mDiscovery\u001b[39m\u001b[38;5;124m\"\u001b[39m]\n",
      "\u001b[1;31mKeyError\u001b[0m: 'Discovery'"
     ]
    }
   ],
   "source": [
    "del captains[\"Discovery\"]"
   ]
  },
  {
   "cell_type": "code",
   "execution_count": 25,
   "id": "36ee568b-b20f-4191-a13e-7f3bcbeacb29",
   "metadata": {},
   "outputs": [
    {
     "data": {
      "text/plain": [
       "{'Enterprise': 'Picard', 'Voyager': 'Janeway', 'Defiant': 'Sisko'}"
      ]
     },
     "execution_count": 25,
     "metadata": {},
     "output_type": "execute_result"
    }
   ],
   "source": [
    "captains"
   ]
  },
  {
   "cell_type": "code",
   "execution_count": null,
   "id": "21473b45-186e-4ba7-bf94-81e79b58f790",
   "metadata": {},
   "outputs": [],
   "source": []
  },
  {
   "cell_type": "code",
   "execution_count": null,
   "id": "fb639905-d4f3-4223-8fb1-9caa6ed7289b",
   "metadata": {},
   "outputs": [],
   "source": []
  }
 ],
 "metadata": {
  "kernelspec": {
   "display_name": "Python 3 (ipykernel)",
   "language": "python",
   "name": "python3"
  },
  "language_info": {
   "codemirror_mode": {
    "name": "ipython",
    "version": 3
   },
   "file_extension": ".py",
   "mimetype": "text/x-python",
   "name": "python",
   "nbconvert_exporter": "python",
   "pygments_lexer": "ipython3",
   "version": "3.11.7"
  }
 },
 "nbformat": 4,
 "nbformat_minor": 5
}
