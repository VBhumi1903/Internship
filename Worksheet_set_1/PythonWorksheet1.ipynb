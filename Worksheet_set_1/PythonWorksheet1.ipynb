{
 "cells": [
  {
   "cell_type": "markdown",
   "id": "df909b9f-b07a-465b-bb70-3aca84aba3e8",
   "metadata": {},
   "source": [
    "# Python Worksheet "
   ]
  },
  {
   "cell_type": "markdown",
   "id": "0000312b-5a62-4329-b399-3d125d42fdf4",
   "metadata": {},
   "source": [
    "### Question 11 to 14 python programming"
   ]
  },
  {
   "cell_type": "code",
   "execution_count": 13,
   "id": "45772030-ea83-499d-9ada-f2713d30717d",
   "metadata": {},
   "outputs": [
    {
     "name": "stdin",
     "output_type": "stream",
     "text": [
      "Enter a number:   5\n"
     ]
    },
    {
     "name": "stdout",
     "output_type": "stream",
     "text": [
      "Factorial of  5  is  120\n"
     ]
    }
   ],
   "source": [
    "# 11. Write a python program to find the factorial of a number\n",
    "\n",
    "# take input from user\n",
    "\n",
    "num1 = int(input(\"Enter a number:  \"))\n",
    "fact = 1\n",
    "if num1 < 0 :\n",
    "           print(\"factorial of entered number is not possible\")\n",
    "elif num1==0:\n",
    "           print(\"Factorial of \",num1, \" is 1\")\n",
    "else:\n",
    "        for i in range(1,num1+1):\n",
    "           fact=fact*i\n",
    "        print(\"Factorial of \",num1,\" is \",fact)        \n",
    "        "
   ]
  },
  {
   "cell_type": "code",
   "execution_count": 29,
   "id": "c68bae77-ca74-4c04-ab44-3312504df6fd",
   "metadata": {},
   "outputs": [
    {
     "name": "stdin",
     "output_type": "stream",
     "text": [
      "Enter a number:  -9\n"
     ]
    },
    {
     "name": "stdout",
     "output_type": "stream",
     "text": [
      "-9  is not a prime number\n"
     ]
    }
   ],
   "source": [
    "# 12 Write a python program to find whether a number is prime or composite\n",
    "# prime number means they can only diviede by itself or 1 without reminder\n",
    "# take input from user\n",
    "\n",
    "num2 = int(input(\"Enter a number: \" ))\n",
    "if num2 > 1:\n",
    "            for i in range(2,num2):\n",
    "                if (num2 % i) == 0:\n",
    "                    print(\"Entered number \",num2,\" is not a prime number\")\n",
    "                    print(i,\" times \",num2 // i, \"is\",num2)\n",
    "                    break\n",
    "                else:\n",
    "                    print(num2,\" is a prime number \")\n",
    "else:\n",
    "    print(num2,\" is not a prime number\")\n"
   ]
  },
  {
   "cell_type": "code",
   "execution_count": 39,
   "id": "b7f6831c-dcfa-4044-ab29-e16499eb8814",
   "metadata": {},
   "outputs": [
    {
     "name": "stdin",
     "output_type": "stream",
     "text": [
      "enter word:  rohan\n"
     ]
    },
    {
     "name": "stdout",
     "output_type": "stream",
     "text": [
      "String is not palindrome\n"
     ]
    }
   ],
   "source": [
    "# 13 Write a python program to check whether a given string a palindrome or not\n",
    "\n",
    "\n",
    "str = input(\"enter word: \")\n",
    "if str == str[::-1]:\n",
    "    print(\"String is palindrome\")\n",
    "else:\n",
    "    print(\"String is not palindrome\")"
   ]
  },
  {
   "cell_type": "code",
   "execution_count": 16,
   "id": "f5282160-685f-4414-938b-032e7fc1beab",
   "metadata": {},
   "outputs": [
    {
     "name": "stdin",
     "output_type": "stream",
     "text": [
      "Enter first side of Triangle :  3\n",
      "Enter Second side of Triangle:  4\n"
     ]
    },
    {
     "name": "stdout",
     "output_type": "stream",
     "text": [
      "Hypotenus of Righ Angled Triangle is  5.0\n"
     ]
    }
   ],
   "source": [
    "import numpy as np\n",
    "import pandas as pd\n",
    "import math as ma\n",
    "# formula for Hypotenus of Right angled Triangle  Csuare = Asquare + Bsquare\n",
    "\n",
    "a = int(input(\"Enter first side of Triangle : \"))\n",
    "b = int(input(\"Enter Second side of Triangle: \"))\n",
    "\n",
    "c = ma.sqrt(a ** 2 + b ** 2)\n",
    "\n",
    "print(\"Hypotenus of Righ Angled Triangle is \",c)\n"
   ]
  },
  {
   "cell_type": "code",
   "execution_count": null,
   "id": "f2c016d4-108f-43f4-a076-3390ce038c23",
   "metadata": {},
   "outputs": [],
   "source": []
  },
  {
   "cell_type": "code",
   "execution_count": null,
   "id": "36a10ec6-1959-48e4-9c37-d1c121aecd1d",
   "metadata": {},
   "outputs": [],
   "source": []
  },
  {
   "cell_type": "code",
   "execution_count": null,
   "id": "a8f5248f-76ed-409d-9e61-212407c320a6",
   "metadata": {},
   "outputs": [],
   "source": []
  },
  {
   "cell_type": "code",
   "execution_count": null,
   "id": "9f934b2a-e3d7-41ab-8b02-0396ada60db3",
   "metadata": {},
   "outputs": [],
   "source": []
  }
 ],
 "metadata": {
  "kernelspec": {
   "display_name": "Python 3 (ipykernel)",
   "language": "python",
   "name": "python3"
  },
  "language_info": {
   "codemirror_mode": {
    "name": "ipython",
    "version": 3
   },
   "file_extension": ".py",
   "mimetype": "text/x-python",
   "name": "python",
   "nbconvert_exporter": "python",
   "pygments_lexer": "ipython3",
   "version": "3.11.7"
  }
 },
 "nbformat": 4,
 "nbformat_minor": 5
}
